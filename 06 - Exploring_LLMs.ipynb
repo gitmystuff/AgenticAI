{
  "cells": [
    {
      "cell_type": "markdown",
      "metadata": {
        "id": "view-in-github",
        "colab_type": "text"
      },
      "source": [
        "<a href=\"https://colab.research.google.com/github/gitmystuff/AgenticAI/blob/main/06%20-%20Exploring_LLMs.ipynb\" target=\"_parent\"><img src=\"https://colab.research.google.com/assets/colab-badge.svg\" alt=\"Open In Colab\"/></a>"
      ]
    },
    {
      "cell_type": "markdown",
      "id": "60cfb2b9",
      "metadata": {
        "id": "60cfb2b9"
      },
      "source": [
        "# Exploring LLMs"
      ]
    },
    {
      "cell_type": "markdown",
      "source": [
        "## Ollama\n",
        "\n",
        "**Ollama** is an open-source tool that allows you to easily **download, run, and manage large language models (LLMs) locally on your own computer** (macOS, Windows, or Linux).\n",
        "\n",
        "Think of it as a simple command-line interface (and API) that acts like **Docker for LLMs**. It handles all the complex setup, including model quantization (making models smaller and faster), so you can quickly use popular open models like Llama, Mistral, and Gemma privately and without relying on cloud services.\n",
        "\n",
        "* https://ollama.com/\n"
      ],
      "metadata": {
        "id": "11I0Tm2K96rJ"
      },
      "id": "11I0Tm2K96rJ"
    },
    {
      "cell_type": "markdown",
      "source": [
        "## LMStudio\n",
        "\n",
        "**LM Studio** is a user-friendly, all-in-one desktop application (with a Graphical User Interface, or GUI) for running Large Language Models (LLMs) locally on your computer (Windows, macOS, or Linux).\n",
        "\n",
        "It simplifies the entire process by allowing you to:\n",
        "1.  **Discover and download** pre-quantized, open-source models (like Llama, Mistral, and Gemma) directly from Hugging Face.\n",
        "2.  **Chat and experiment** with these models in a dedicated, private chat interface.\n",
        "3.  **Serve a local API** that is compatible with the OpenAI API format, making it easy to integrate the local LLMs into agentic frameworks like LangChain and CrewAI.\n",
        "\n",
        "It is particularly popular for its **ease of use** and strong focus on **data privacy**, as all processing happens entirely on your machine.\n",
        "\n",
        "* https://lmstudio.ai/"
      ],
      "metadata": {
        "id": "IWdfa80Z-E5H"
      },
      "id": "IWdfa80Z-E5H"
    },
    {
      "cell_type": "code",
      "execution_count": null,
      "id": "8d28d9c9",
      "metadata": {
        "id": "8d28d9c9"
      },
      "outputs": [],
      "source": [
        "import os\n",
        "import json\n",
        "import requests\n",
        "from dotenv import load_dotenv\n",
        "from openai import OpenAI\n",
        "from anthropic import Anthropic\n",
        "from IPython.display import Markdown, display"
      ]
    },
    {
      "cell_type": "markdown",
      "id": "fe0da2c6",
      "metadata": {
        "id": "fe0da2c6"
      },
      "source": [
        "## LLM Setup"
      ]
    },
    {
      "cell_type": "code",
      "execution_count": null,
      "id": "8ea25618",
      "metadata": {
        "id": "8ea25618",
        "outputId": "6173313d-ce27-473e-8638-f885afc0b091"
      },
      "outputs": [
        {
          "name": "stdout",
          "output_type": "stream",
          "text": [
            "Ollama is running\n",
            "LM Studio is running\n",
            "OpenAI API Key exists\n",
            "Anthropic API Key exists\n",
            "Google API Key exists\n",
            "DeepSeek API Key not set\n",
            "Groq API Key exists\n",
            "Hugging Face Token exists\n"
          ]
        }
      ],
      "source": [
        "load_dotenv(override=True)\n",
        "\n",
        "def is_service_running(url):\n",
        "    \"\"\"\n",
        "    Checks if a service is running by attempting to connect to its URL.\n",
        "    \"\"\"\n",
        "    try:\n",
        "        response = requests.get(url, timeout=5)\n",
        "        # Ollama and LM Studio return \"Ollama is running\" or similar on their base URL\n",
        "        # A 200 status code indicates the server is up.\n",
        "        if response.status_code == 200:\n",
        "            return True\n",
        "    except requests.exceptions.ConnectionError:\n",
        "        return False\n",
        "    except requests.exceptions.Timeout:\n",
        "        return False\n",
        "    return False\n",
        "\n",
        "# Check for Ollama\n",
        "ollama_url = 'http://localhost:11434'\n",
        "if is_service_running(ollama_url):\n",
        "    print(\"Ollama is running\")\n",
        "else:\n",
        "    print(\"Ollama is not running\")\n",
        "\n",
        "# Check for LM Studio\n",
        "lmstudio_url = 'http://localhost:1234'\n",
        "if is_service_running(lmstudio_url):\n",
        "    print(\"LM Studio is running\")\n",
        "else:\n",
        "    print(\"LM Studio is not running\")\n",
        "\n",
        "openai_api_key = os.getenv('OPENAI_API_KEY')\n",
        "anthropic_api_key = os.getenv('ANTHROPIC_API_KEY')\n",
        "google_api_key = os.getenv('GOOGLE_API_KEY')\n",
        "deepseek_api_key = os.getenv('DEEPSEEK_API_KEY')\n",
        "groq_api_key = os.getenv('GROQ_API_KEY')\n",
        "hf_token = os.getenv('HF_TOKEN')\n",
        "\n",
        "if openai_api_key:\n",
        "    print(f\"OpenAI API Key exists\")\n",
        "else:\n",
        "    print(\"OpenAI API Key not set\")\n",
        "\n",
        "if anthropic_api_key:\n",
        "    print(f\"Anthropic API Key exists\")\n",
        "else:\n",
        "    print(\"Anthropic API Key not set\")\n",
        "\n",
        "if google_api_key:\n",
        "    print(f\"Google API Key exists\")\n",
        "else:\n",
        "    print(\"Google API Key not set\")\n",
        "\n",
        "if deepseek_api_key:\n",
        "    print(f\"DeepSeek API Key exists\")\n",
        "else:\n",
        "    print(\"DeepSeek API Key not set\")\n",
        "\n",
        "if groq_api_key:\n",
        "    print(f\"Groq API Key exists\")\n",
        "else:\n",
        "    print(\"Groq API Key not set\")\n",
        "\n",
        "if hf_token:\n",
        "    print(f\"Hugging Face Token exists\")\n",
        "else:\n",
        "    print(\"Hugging Face Token not set\")\n"
      ]
    },
    {
      "cell_type": "markdown",
      "id": "68ea4df3",
      "metadata": {
        "id": "68ea4df3"
      },
      "source": [
        "## Evaluating LLMs"
      ]
    },
    {
      "cell_type": "code",
      "execution_count": null,
      "id": "2b1471b7",
      "metadata": {
        "id": "2b1471b7",
        "outputId": "36ee57e5-a5bc-49bb-afdb-09ead87c0122"
      },
      "outputs": [
        {
          "data": {
            "text/plain": [
              "[{'role': 'user',\n",
              "  'content': 'You are an AI tasked with writing a single, one-sentence instruction for a human to prevent a paradox in a time-travel scenario. What is that instruction? '}]"
            ]
          },
          "execution_count": 7,
          "metadata": {},
          "output_type": "execute_result"
        }
      ],
      "source": [
        "# make a request\n",
        "llms = []\n",
        "responses = []\n",
        "\n",
        "request = \"You are an AI tasked with writing a single, one-sentence instruction for a human to prevent a paradox in a time-travel scenario. What is that instruction? \"\n",
        "messages = [{\"role\": \"user\", \"content\": request}]\n",
        "messages"
      ]
    },
    {
      "cell_type": "code",
      "execution_count": null,
      "id": "f34e1900",
      "metadata": {
        "id": "f34e1900",
        "outputId": "b47e0f43-855b-451a-e534-03d956e8fa4e"
      },
      "outputs": [
        {
          "data": {
            "text/markdown": [
              "Do not engage with your past self under any circumstances, as any interaction could lead to unforeseen consequences that may alter your own existence."
            ],
            "text/plain": [
              "<IPython.core.display.Markdown object>"
            ]
          },
          "metadata": {},
          "output_type": "display_data"
        }
      ],
      "source": [
        "# openai\n",
        "openai = OpenAI() # assumes OPENAI_API_KEY is set in environment\n",
        "model = \"gpt-4o-mini\"\n",
        "\n",
        "response = openai.chat.completions.create(model=model, messages=messages)\n",
        "result = response.choices[0].message.content\n",
        "\n",
        "display(Markdown(result))\n",
        "llms.append(model)\n",
        "responses.append(result)"
      ]
    },
    {
      "cell_type": "code",
      "execution_count": null,
      "id": "a1eb75eb",
      "metadata": {
        "id": "a1eb75eb",
        "outputId": "89bdb96a-197d-4253-f92b-10c18ef9f842"
      },
      "outputs": [
        {
          "data": {
            "text/markdown": [
              "Avoid interacting with your past self or altering events you know have already occurred, as this could create a temporal paradox."
            ],
            "text/plain": [
              "<IPython.core.display.Markdown object>"
            ]
          },
          "metadata": {},
          "output_type": "display_data"
        }
      ],
      "source": [
        "# claude\n",
        "model = \"claude-3-7-sonnet-latest\"\n",
        "\n",
        "claude = Anthropic()\n",
        "response = claude.messages.create(model=model, messages=messages, max_tokens=1000)\n",
        "result = response.content[0].text\n",
        "\n",
        "display(Markdown(result))\n",
        "llms.append(model)\n",
        "responses.append(result)"
      ]
    },
    {
      "cell_type": "code",
      "execution_count": null,
      "id": "df6d5757",
      "metadata": {
        "id": "df6d5757",
        "outputId": "48ead1ce-2f10-4a1a-a344-0e4a4b518dd0"
      },
      "outputs": [
        {
          "data": {
            "text/markdown": [
              "Do not interact in any way that would prevent your own birth or your decision to time travel.\n"
            ],
            "text/plain": [
              "<IPython.core.display.Markdown object>"
            ]
          },
          "metadata": {},
          "output_type": "display_data"
        }
      ],
      "source": [
        "# gemini, may need enable Generative AI API in Google Cloud Console\n",
        "gemini = OpenAI(api_key=google_api_key, base_url=\"https://generativelanguage.googleapis.com/v1beta/openai/\")\n",
        "model = \"gemini-2.0-flash\"\n",
        "\n",
        "response = gemini.chat.completions.create(model=model, messages=messages)\n",
        "result = response.choices[0].message.content\n",
        "\n",
        "display(Markdown(result))\n",
        "llms.append(model)\n",
        "responses.append(result)"
      ]
    },
    {
      "cell_type": "code",
      "execution_count": null,
      "id": "4878e5d8",
      "metadata": {
        "id": "4878e5d8",
        "outputId": "33667149-086f-4bef-d37a-d32a2ea63362"
      },
      "outputs": [
        {
          "data": {
            "text/markdown": [
              "If you are about to interact with your past self or any event that has already occurred, do not give or receive any information that would cause your past self or anyone else to take an action that you have already witnessed or know to be a part of established events."
            ],
            "text/plain": [
              "<IPython.core.display.Markdown object>"
            ]
          },
          "metadata": {},
          "output_type": "display_data"
        }
      ],
      "source": [
        "# groq\n",
        "groq = OpenAI(api_key=groq_api_key, base_url=\"https://api.groq.com/openai/v1\")\n",
        "model = \"llama-3.3-70b-versatile\"\n",
        "\n",
        "response = groq.chat.completions.create(model=model, messages=messages)\n",
        "result = response.choices[0].message.content\n",
        "\n",
        "display(Markdown(result))\n",
        "llms.append(model)\n",
        "responses.append(result)"
      ]
    },
    {
      "cell_type": "code",
      "execution_count": null,
      "id": "8d741df6",
      "metadata": {
        "id": "8d741df6",
        "outputId": "f3c443ca-cf34-45bd-a80c-eeca0eca2d53"
      },
      "outputs": [
        {
          "data": {
            "text/markdown": [
              "To avoid a paradox arising from interacting with your earlier time-self while on a journey through the timestream, refrain from altering any events or taking actions that could have been the immediate cause of initiating this same trip."
            ],
            "text/plain": [
              "<IPython.core.display.Markdown object>"
            ]
          },
          "metadata": {},
          "output_type": "display_data"
        }
      ],
      "source": [
        "ollama = OpenAI(base_url='http://localhost:11434/v1', api_key='ollama')\n",
        "model = \"llama3.2\"\n",
        "\n",
        "response = ollama.chat.completions.create(model=model, messages=messages)\n",
        "result = response.choices[0].message.content\n",
        "\n",
        "display(Markdown(result))\n",
        "llms.append(model)\n",
        "responses.append(result)"
      ]
    },
    {
      "cell_type": "code",
      "execution_count": null,
      "id": "bab68145",
      "metadata": {
        "id": "bab68145",
        "outputId": "885b22c6-49e4-4a93-f756-0b0c786db377"
      },
      "outputs": [
        {
          "data": {
            "text/markdown": [
              " Do not create an event in the past that would alter the circumstances leading to your presence in the current moment in time."
            ],
            "text/plain": [
              "<IPython.core.display.Markdown object>"
            ]
          },
          "metadata": {},
          "output_type": "display_data"
        }
      ],
      "source": [
        "mistral = OpenAI(base_url=\"http://localhost:1234/v1\", api_key=\"lm-studio\")\n",
        "model = \"mistral_instruct_7b\"\n",
        "\n",
        "response = mistral.chat.completions.create(model=model, messages=messages)\n",
        "result = response.choices[0].message.content\n",
        "\n",
        "display(Markdown(result))\n",
        "llms.append(model)\n",
        "responses.append(result)"
      ]
    },
    {
      "cell_type": "code",
      "execution_count": null,
      "id": "b619e9b1",
      "metadata": {
        "id": "b619e9b1"
      },
      "outputs": [],
      "source": [
        "text_prep = \"\"\n",
        "\n",
        "for index, response in enumerate(responses):\n",
        "    text_prep += f\"# Response from llm {index+1}\\n\\n\"\n",
        "    text_prep += response + \"\\n\\n\""
      ]
    },
    {
      "cell_type": "markdown",
      "id": "8c601083",
      "metadata": {
        "id": "8c601083"
      },
      "source": [
        "## Evaluation"
      ]
    },
    {
      "cell_type": "code",
      "execution_count": null,
      "id": "2a34705e",
      "metadata": {
        "id": "2a34705e",
        "outputId": "5ca4f28c-5423-4b4c-dc69-798ab9f83b94"
      },
      "outputs": [
        {
          "name": "stdout",
          "output_type": "stream",
          "text": [
            "You are evaluating responses from 6 LLMs.\n",
            "Each model has been given this question:\n",
            "\n",
            "You are an AI tasked with writing a single, one-sentence instruction for a human to prevent a paradox in a time-travel scenario. What is that instruction? \n",
            "\n",
            "Your job is to evaluate each response for clarity and strength of argument, and rank them in order of best to worst.\n",
            "Respond with JSON, and only JSON, with the following format:\n",
            "{\"results\": [\"best llm number\", \"second best llm number\", \"third best llm number\", ...]}\n",
            "\n",
            "Here are the responses from each llm:\n",
            "\n",
            "# Response from llm 1\n",
            "\n",
            "Do not engage with your past self under any circumstances, as any interaction could lead to unforeseen consequences that may alter your own existence.\n",
            "\n",
            "# Response from llm 2\n",
            "\n",
            "Avoid interacting with your past self or altering events you know have already occurred, as this could create a temporal paradox.\n",
            "\n",
            "# Response from llm 3\n",
            "\n",
            "Do not interact in any way that would prevent your own birth or your decision to time travel.\n",
            "\n",
            "\n",
            "# Response from llm 4\n",
            "\n",
            "If you are about to interact with your past self or any event that has already occurred, do not give or receive any information that would cause your past self or anyone else to take an action that you have already witnessed or know to be a part of established events.\n",
            "\n",
            "# Response from llm 5\n",
            "\n",
            "To avoid a paradox arising from interacting with your earlier time-self while on a journey through the timestream, refrain from altering any events or taking actions that could have been the immediate cause of initiating this same trip.\n",
            "\n",
            "# Response from llm 6\n",
            "\n",
            " Do not create an event in the past that would alter the circumstances leading to your presence in the current moment in time.\n",
            "\n",
            "\n",
            "\n",
            "Now, please respond with the ranked order of the llms using JSON, nothing else. Do not include markdown formatting or code blocks.\n"
          ]
        }
      ],
      "source": [
        "evaluator = f\"\"\"You are evaluating responses from {len(llms)} LLMs.\n",
        "Each model has been given this question:\n",
        "\n",
        "{request}\n",
        "\n",
        "Your job is to evaluate each response for clarity and strength of argument, and rank them in order of best to worst.\n",
        "Respond with JSON, and only JSON, with the following format:\n",
        "{{\"results\": [\"best llm number\", \"second best llm number\", \"third best llm number\", ...]}}\n",
        "\n",
        "Here are the responses from each llm:\n",
        "\n",
        "{text_prep}\n",
        "\n",
        "Now, please respond with the ranked order of the llms using JSON, nothing else. Do not include markdown formatting or code blocks.\"\"\"\n",
        "\n",
        "print(evaluator)"
      ]
    },
    {
      "cell_type": "code",
      "execution_count": null,
      "id": "2ce18f30",
      "metadata": {
        "id": "2ce18f30",
        "outputId": "2e6ac3a5-04ea-4cbd-ede0-56c33f000b62"
      },
      "outputs": [
        {
          "name": "stdout",
          "output_type": "stream",
          "text": [
            "{\"results\": [\"1\", \"2\", \"6\", \"4\", \"5\", \"3\"]}\n"
          ]
        }
      ],
      "source": [
        "evaluator_messages = [{\"role\": \"user\", \"content\": evaluator}]\n",
        "\n",
        "openai = OpenAI()\n",
        "response = openai.chat.completions.create(\n",
        "    model=\"o3-mini\",\n",
        "    messages=evaluator_messages,\n",
        ")\n",
        "results = response.choices[0].message.content\n",
        "print(results)"
      ]
    },
    {
      "cell_type": "code",
      "execution_count": null,
      "id": "2bfa3883",
      "metadata": {
        "id": "2bfa3883",
        "outputId": "20228cb7-0bab-4bd8-bc3c-0010cb19e454"
      },
      "outputs": [
        {
          "name": "stdout",
          "output_type": "stream",
          "text": [
            "Rank 1: gpt-4o-mini\n",
            "Rank 2: claude-3-7-sonnet-latest\n",
            "Rank 3: mistral_instruct_7b\n",
            "Rank 4: llama-3.3-70b-versatile\n",
            "Rank 5: llama3.2\n",
            "Rank 6: gemini-2.0-flash\n"
          ]
        }
      ],
      "source": [
        "results_dict = json.loads(results)\n",
        "ranks = results_dict[\"results\"]\n",
        "for index, result in enumerate(ranks):\n",
        "    llm = llms[int(result)-1]\n",
        "    print(f\"Rank {index+1}: {llm}\")"
      ]
    }
  ],
  "metadata": {
    "kernelspec": {
      "display_name": "agents-playground",
      "language": "python",
      "name": "python3"
    },
    "language_info": {
      "codemirror_mode": {
        "name": "ipython",
        "version": 3
      },
      "file_extension": ".py",
      "mimetype": "text/x-python",
      "name": "python",
      "nbconvert_exporter": "python",
      "pygments_lexer": "ipython3",
      "version": "3.12.11"
    },
    "colab": {
      "provenance": [],
      "include_colab_link": true
    }
  },
  "nbformat": 4,
  "nbformat_minor": 5
}